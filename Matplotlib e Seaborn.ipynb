{
  "nbformat": 4,
  "nbformat_minor": 0,
  "metadata": {
    "colab": {
      "provenance": [],
      "authorship_tag": "ABX9TyOKw6UZ2uPnvZg+ZxZlpssv",
      "include_colab_link": true
    },
    "kernelspec": {
      "name": "python3",
      "display_name": "Python 3"
    },
    "language_info": {
      "name": "python"
    }
  },
  "cells": [
    {
      "cell_type": "markdown",
      "metadata": {
        "id": "view-in-github",
        "colab_type": "text"
      },
      "source": [
        "<a href=\"https://colab.research.google.com/github/willaevangelista/matplotlib-seaborn_python/blob/main/Matplotlib%20e%20Seaborn.ipynb\" target=\"_parent\"><img src=\"https://colab.research.google.com/assets/colab-badge.svg\" alt=\"Open In Colab\"/></a>"
      ]
    },
    {
      "cell_type": "markdown",
      "source": [
        "# **Desafio 1: O perfil do Catálogo da Netflix**\n",
        "\n",
        "Esse desafio tem como objetivo responder algumas perguntas através da\n",
        "análise de dados, aprofundando o conhecimento em frequência e medidas.\n",
        "Os dados que deverão ser utilizado nesse script foram baixados do kaggle,\n",
        "e podem ser acessados através do link:\n",
        "https://www.kaggle.com/code/shivamb/netflix-shows-and-movies-exploratory-analysis\n",
        "Este conjunto de dados consiste na lista de filmes e suas respectivas e\n",
        "suas informações."
      ],
      "metadata": {
        "id": "nhvAx9vGbhfV"
      }
    },
    {
      "cell_type": "markdown",
      "source": [
        "**Variáveis:**\n",
        "*   show_id - id único do filme/série.\n",
        "*   title - título do filme ou série\n",
        "*   director - diretor do filme ou série\n",
        "*   cast - elenco do filme ou série\n",
        "*   country - país do filme ou série\n",
        "*   date_added - data que foi adicionado no Netflix\n",
        "*   reading score - ano de lançamento original do filme\n",
        "*   rating - classificação da televisão\n",
        "*   duration - duração total do filme ou série.\n",
        "*   listed_in - categoria ou gênero do filme ou série.\n",
        "*   description -descrição do filme ou série.\n",
        "*   type - tipo de filme ou série"
      ],
      "metadata": {
        "id": "_uFjozTabrL-"
      }
    },
    {
      "cell_type": "markdown",
      "source": [
        "# Importações\n"
      ],
      "metadata": {
        "id": "cCvjyZZOWoyI"
      }
    },
    {
      "cell_type": "code",
      "source": [
        "# importando bibliotecas\n",
        "\n",
        "import pandas as pd\n",
        "import numpy as np\n",
        "import matplotlib.pyplot as plt\n",
        "import seaborn as sns"
      ],
      "metadata": {
        "id": "zhgoUJXs0r99"
      },
      "execution_count": null,
      "outputs": []
    },
    {
      "cell_type": "code",
      "execution_count": null,
      "metadata": {
        "id": "SbLidV0mnPJ7"
      },
      "outputs": [],
      "source": [
        "# importando base de dados\n",
        "\n",
        "df = pd.read_csv('/content/netflix_titles_nov_2019.csv')\n",
        "\n",
        "# Verificando se a DataFrame foi realmente importada corretamente\n",
        "print(df.head(10).to_string() + \"\\n\")\n",
        "df.info()"
      ]
    },
    {
      "cell_type": "markdown",
      "source": [
        "# Exercício 1: Exploração inicial"
      ],
      "metadata": {
        "id": "bI2jDuw1WpMi"
      }
    },
    {
      "cell_type": "markdown",
      "source": [
        "Quantas linhas e colunas tem o dataset?"
      ],
      "metadata": {
        "id": "bhHMBOuvchtd"
      }
    },
    {
      "cell_type": "code",
      "source": [
        "num_linhas = df.shape[0] # eixo X = 0 (horizontal) -> linhas\n",
        "num_colunas = df.shape[1] # eixo Y = 1 (vertical) -> colunas\n",
        "\n",
        "print(f'O Catálogo da Netflix tem {num_linhas} linhas e {num_colunas} colunas.')"
      ],
      "metadata": {
        "id": "bEcpmAVcchKX"
      },
      "execution_count": null,
      "outputs": []
    },
    {
      "cell_type": "markdown",
      "source": [
        "Quais são os tipos das variáveis e se há valores ausentes?"
      ],
      "metadata": {
        "id": "9tlJDwBOcmiT"
      }
    },
    {
      "cell_type": "code",
      "source": [
        "valores_ausentes = df.isnull().sum()\n",
        "print(f'O Catálogo da Netflix tem os seguintes valores austentes:\\n\\n{valores_ausentes}')\n",
        "\n",
        "print('\\n\\nO Catálogo da Netflix tem os seguintes tipos de variáveis:')\n",
        "df.info()"
      ],
      "metadata": {
        "id": "3VoyjkJacmpW"
      },
      "execution_count": null,
      "outputs": []
    },
    {
      "cell_type": "markdown",
      "source": [
        "# Exercício 2: Análises de frequência"
      ],
      "metadata": {
        "id": "zTnA681uWpOr"
      }
    },
    {
      "cell_type": "markdown",
      "source": [
        "Qual a proporção de filmes vs. séries no catálogo?"
      ],
      "metadata": {
        "id": "SiMmFcZkcqCW"
      }
    },
    {
      "cell_type": "code",
      "source": [
        "movies = df.loc[df['type'] == 'Movie'].shape[0]\n",
        "tv_shows = df.loc[df['type'] == 'TV Show'].shape[0]\n",
        "\n",
        "print(f'O Catálogo da Netflix tem {movies} filmes e {tv_shows} TV Shows.')"
      ],
      "metadata": {
        "id": "AQyzEdmkcqJ6"
      },
      "execution_count": null,
      "outputs": []
    },
    {
      "cell_type": "markdown",
      "source": [
        "Qual o gênero mais frequente?"
      ],
      "metadata": {
        "id": "sn3sapBFcqRd"
      }
    },
    {
      "cell_type": "code",
      "source": [
        "# Dado que cada obra tem mais de um gênero listado na mesma coluna, é necessário separar as informações\n",
        "separacao_generos = df['listed_in'].str.split(', ').explode() # o explode() transforma essas informações aglomeradas em linhas separadas\n",
        "\n",
        "conta_genero = separacao_generos.value_counts() # verificação do somatório de aparições de determinado gênero no catálogo\n",
        "#print(conta_genero)\n",
        "\n",
        "mais_frequente = conta_genero.idxmax()\n",
        "print(f'\\nO gênero mais frequente do Catálogo da Netflix é: {mais_frequente}.')"
      ],
      "metadata": {
        "id": "5t2TGBc9cqX9"
      },
      "execution_count": null,
      "outputs": []
    },
    {
      "cell_type": "markdown",
      "source": [
        "# Exercício 3: Análises estatísticas"
      ],
      "metadata": {
        "id": "O6gduOCwWp1T"
      }
    },
    {
      "cell_type": "markdown",
      "source": [
        "Qual a média, mediana e moda do tempo de duração dos\n",
        "filmes?"
      ],
      "metadata": {
        "id": "svaFTuA7c_0e"
      }
    },
    {
      "cell_type": "code",
      "source": [
        "# filtrando apenas os filmes, removendo \"min\" da duração e convertendo para float para permitir cálculos\n",
        "duracao = df.loc[df['type'] == 'Movie', 'duration'].str.replace('min', '').astype(float)\n",
        "\n",
        "#print(duracao)\n",
        "#df['duration'] = df['duration']\n",
        "\n",
        "tempo_media = duracao.mean()\n",
        "tempo_mediana = duracao.median()\n",
        "tempo_moda = duracao.mode()[0]\n",
        "\n",
        "print(f'Duração dos Filmes do Catálogo da Netflix: \\n\\nMédia: {tempo_media:.2f}\\nMediana: {tempo_mediana:.2f} \\nModa: {tempo_moda:.2f}')\n",
        "\n",
        "#df.loc[df['type'] == 'Movie'].media()\n",
        "#df.loc[df['type'] == 'Movie'].mode()"
      ],
      "metadata": {
        "id": "zlQAjxJhc_7g"
      },
      "execution_count": null,
      "outputs": []
    },
    {
      "cell_type": "markdown",
      "source": [
        "Qual o filme mais curto e mais longo?"
      ],
      "metadata": {
        "id": "PZoM86NCdAEG"
      }
    },
    {
      "cell_type": "code",
      "source": [
        "duracao_max = duracao.max()\n",
        "duracao_min = duracao.min()\n",
        "\n",
        "print(f'O filme mais curto tem {duracao_min:.2f} minutos de duração.')\n",
        "print(f'O filme mais longo tem {duracao_max:.2f} minutos de duração.')"
      ],
      "metadata": {
        "id": "Mqd_WbVIdALq"
      },
      "execution_count": null,
      "outputs": []
    },
    {
      "cell_type": "markdown",
      "source": [
        "# Exercício 4: Visualização de dados"
      ],
      "metadata": {
        "id": "iYAfR0R3Wp3H"
      }
    },
    {
      "cell_type": "markdown",
      "source": [
        "Criar um gráfico de barras para mostrar a quantidade de títulos\n",
        "por gênero."
      ],
      "metadata": {
        "id": "tT4JIcnidEli"
      }
    },
    {
      "cell_type": "code",
      "source": [
        "# ordenação dos dados do menor para o maior\n",
        "conta_genero_ordenado = conta_genero.sort_values(ascending=False)\n",
        "\n",
        "# definindo x e y\n",
        "x = conta_genero_ordenado.index  # gêneros dos títulos ordenados\n",
        "y = conta_genero_ordenado.values  # quantidade de títulos por gênero ordenada\n",
        "\n",
        "# definindo o estilo do gráfico\n",
        "sns.set(style=\"whitegrid\")  # estilo de fundo com grid branco\n",
        "\n",
        "# criando o gráfico de barras horizontal\n",
        "plt.figure(figsize=(10, 8))  # ajusta o tamanho da figura para mais espaço\n",
        "sns.barplot(x=y, y=x, palette=\"viridis\")  # usando o seaborn para criar o gráfico com uma paleta de cores agradável\n",
        "\n",
        "# adicionando título e rótulos\n",
        "plt.xlabel('Quantidade de Títulos')\n",
        "plt.ylabel('Gênero')\n",
        "plt.title('Quantidade de Títulos por Gênero')\n",
        "\n",
        "plt.tight_layout()  # ajusta automaticamente o layout para evitar sobreposição\n",
        "plt.show()"
      ],
      "metadata": {
        "id": "z9gGSBQUdEto"
      },
      "execution_count": null,
      "outputs": []
    },
    {
      "cell_type": "markdown",
      "source": [
        "Criar um histograma para analisar a distribuição da duração dos\n",
        "filmes."
      ],
      "metadata": {
        "id": "xf0mlbNodE2e"
      }
    },
    {
      "cell_type": "code",
      "source": [
        "# filtrando apenas os filmes, removendo \"min\" da duração e convertendo para float\n",
        "duracao = df.loc[df['type'] == 'Movie', 'duration'].str.replace('min', '').astype(float)\n",
        "\n",
        "# definindo o estilo do gráfico\n",
        "sns.set(style=\"whitegrid\")  # Estilo de fundo com grid branco\n",
        "\n",
        "# criando o histograma com Seaborn\n",
        "plt.figure(figsize=(10, 6))  # Ajusta o tamanho da figura para melhor visualização\n",
        "sns.histplot(duracao, bins=1000, kde=True, color='blue', edgecolor='pink', linewidth=1.5)  # 'kde=True' adiciona a linha de densidade\n",
        "\n",
        "# adicionando título e rótulos\n",
        "plt.xlabel('Duração dos Filmes (minutos)')\n",
        "plt.ylabel('Quantidade de Filmes')\n",
        "plt.title('Histograma de Distribuição da Duração dos Filmes')\n",
        "\n",
        "# exibindo o gráfico\n",
        "plt.tight_layout()  # Ajusta o layout para evitar sobreposição\n",
        "plt.show()"
      ],
      "metadata": {
        "id": "aYwJE-RadE_l"
      },
      "execution_count": null,
      "outputs": []
    },
    {
      "cell_type": "markdown",
      "source": [
        "# Exercício 5: Atividade extra"
      ],
      "metadata": {
        "id": "i67IhsZrWp5M"
      }
    },
    {
      "cell_type": "markdown",
      "source": [
        "Quais são os 5 países que possuem mais produções no catálogo?"
      ],
      "metadata": {
        "id": "YGVBIgbsdhH-"
      }
    },
    {
      "cell_type": "code",
      "source": [
        "# sado que cada muitas produções possuem mais de um país envolvido nela, é necessário separar essas informações\n",
        "separacao_paises = df['country'].str.split(', ').explode() # o explode() transforma essas informações aglomeradas em linhas separadas\n",
        "\n",
        "conta_paises = separacao_paises.value_counts() # verificação do somatório de aparições de determinado país no catálogo\n",
        "print(f'Os 5 países que possuem mais produções no Catálogo da Netflix são:\\n\\n{conta_paises.head(5)}')\n",
        "\n",
        "# Criação de Gráfico de Barras\n",
        "\n",
        "# definindo x e y\n",
        "x = conta_paises.head(5).values  # nome dos países\n",
        "y = conta_paises.head(5).index  # quantidade de produções\n",
        "\n",
        "# definindo o estilo do gráfico\n",
        "sns.set(style=\"whitegrid\")  # estilo de fundo com grid branco\n",
        "\n",
        "# criando o gráfico de barras horizontal\n",
        "plt.figure(figsize=(10, 8))  # ajusta o tamanho da figura para mais espaço\n",
        "sns.barplot(x=y, y=x, palette=\"viridis\")  # usando o seaborn para criar o gráfico com uma paleta de cores agradável\n",
        "\n",
        "# adicionando título e rótulos\n",
        "plt.xlabel('Países')\n",
        "plt.ylabel('Quantidade de Produções')\n",
        "plt.title('5 Países com Mais Produções no Catálogo')\n",
        "\n",
        "plt.tight_layout()  # ajusta automaticamente o layout para evitar sobreposição\n",
        "plt.show()"
      ],
      "metadata": {
        "id": "iFwBj0qUdhPg"
      },
      "execution_count": null,
      "outputs": []
    }
  ]
}